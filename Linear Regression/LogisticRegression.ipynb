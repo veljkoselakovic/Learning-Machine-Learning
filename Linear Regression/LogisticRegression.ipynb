{
  "nbformat": 4,
  "nbformat_minor": 0,
  "metadata": {
    "colab": {
      "name": "Logistic Regression.ipynb",
      "provenance": [],
      "authorship_tag": "ABX9TyMKtAo/a2dHo6Y0RUf2m3IY",
      "include_colab_link": true
    },
    "kernelspec": {
      "name": "python3",
      "display_name": "Python 3"
    },
    "language_info": {
      "name": "python"
    }
  },
  "cells": [
    {
      "cell_type": "markdown",
      "metadata": {
        "id": "view-in-github",
        "colab_type": "text"
      },
      "source": [
        "<a href=\"https://colab.research.google.com/github/veljkoselakovic/Python-Machine-Learning-Raschka/blob/main/LogisticRegression.ipynb\" target=\"_parent\"><img src=\"https://colab.research.google.com/assets/colab-badge.svg\" alt=\"Open In Colab\"/></a>"
      ]
    },
    {
      "cell_type": "code",
      "metadata": {
        "id": "jTOlK1PyIrsG"
      },
      "source": [
        "import matplotlib.pyplot as plt\n",
        "import numpy as np\n",
        "from sklearn import datasets\n",
        "from sklearn.model_selection import train_test_split\n"
      ],
      "execution_count": 7,
      "outputs": []
    },
    {
      "cell_type": "markdown",
      "metadata": {
        "id": "KeDrODjbOSp6"
      },
      "source": [
        "**Getting the dataset from** `sklearn`"
      ]
    },
    {
      "cell_type": "code",
      "metadata": {
        "id": "SP6scW5oNYSS"
      },
      "source": [
        "\n",
        "iris = datasets.load_iris()\n"
      ],
      "execution_count": 9,
      "outputs": []
    },
    {
      "cell_type": "markdown",
      "metadata": {
        "id": "Cj-8r-k-PKS-"
      },
      "source": [
        "**Plotting function**"
      ]
    },
    {
      "cell_type": "code",
      "metadata": {
        "id": "4QSKObwhPI_6"
      },
      "source": [
        "def plot_decision_regions(x,y, classifier, resolution = 0.02):\n",
        "  from matplotlib.colors import ListedColormap\n",
        "\n",
        "  # Marker generator + color map\n",
        "  markers = ('s', 'x', 'o', '^', 'y')\n",
        "  colors = ('red', 'blue', 'lightgreen', 'gray', 'cyan')\n",
        "  cmap = ListedColormap(colors[:len(np.unique(y))])\n",
        "  \n",
        "  # Plot decision surfaces\n",
        "  x1_min, x1_max = x[:, 0].min() - 1, x[:, 0].max() + 1\n",
        "  x2_min, x2_max = x[:, 1].min() - 1, x[:, 1].max() + 1\n",
        "  xx1, xx2 = np.meshgrid(np.arange(x1_min, x1_max, resolution),\n",
        "                         np.arange(x2_min, x2_max, resolution))\n",
        "  z = classifier.predict(np.array([xx1.ravel(), xx2.ravel()]).T)\n",
        "  z = z.reshape(xx1.shape)\n",
        "  plt.contourf(xx1, xx2, z, alpha = 0.3, cmap = cmap)\n",
        "  plt.xlim(xx1.min(), xx1.max())\n",
        "  plt.ylim(xx2.min(), xx2.max())\n",
        "  # Plot examples\n",
        "  for idx, cl in enumerate(np.unique(y)):\n",
        "    c = \"Iris Versicolor\" if cl == 1 else \"Iris Setosa\"\n",
        "    plt.scatter(x = x[y==cl, 0], y = x[y == cl, 1],\n",
        "                alpha = 0.8,\n",
        "                c = colors[idx],\n",
        "                marker = markers[idx],\n",
        "                label = c,\n",
        "                edgecolor='black')\n",
        "  #plt.show()\n"
      ],
      "execution_count": 10,
      "outputs": []
    },
    {
      "cell_type": "markdown",
      "metadata": {
        "id": "HcELaek2JE5j"
      },
      "source": [
        "**Sigmoid function**"
      ]
    },
    {
      "cell_type": "code",
      "metadata": {
        "id": "Cpcwi8ToI-0F"
      },
      "source": [
        "def sigmoid(z):\n",
        "  return 1.0 / (1.0 + np.exp(-z)))\n",
        "  "
      ],
      "execution_count": null,
      "outputs": []
    },
    {
      "cell_type": "markdown",
      "metadata": {
        "id": "S7E93d9aJXZ7"
      },
      "source": [
        "<center><b>error cost function</b></center>\n",
        "---\n",
        "\n",
        "$$J(\\omega) = \\sum_{i} \\frac{1}{2} (\\phi(z^{(i)}) - y^{(i)})^2 $$ \n",
        "\n",
        "\n",
        "<center><b>confidence</b></center>\n",
        "\n",
        "---\n",
        "$$L(\\omega) = P (y | x; \\omega) = \\prod_{i=1}^{n} P(y^{(i)}|x^{(i)}; \\omega) = \\prod_{i=1}^{n} (\\phi(z^{(i)}))^{y^{(i)}} (1 - \\phi(z^{(i)}))^{1-y^{(i)}}$$\n",
        "\n",
        "log $L(\\omega)$ ..."
      ]
    },
    {
      "cell_type": "markdown",
      "metadata": {
        "id": "gtTLNEsoMyvy"
      },
      "source": [
        "**LogisticRegression Model**"
      ]
    },
    {
      "cell_type": "code",
      "metadata": {
        "id": "hYj4X0HqJIke"
      },
      "source": [
        "class LogisticRegressionGD(object):\n",
        "  def __init__(self, eta = 0.05, n_iter = 100, random_state = 1):\n",
        "    self.eta = eta\n",
        "    self.n_iter = n_iter\n",
        "    self.random_state = random_state\n",
        "\n",
        "  def fit(self, x, y):\n",
        "    rgen = np.random.RandomState(self.random_state)\n",
        "    self.w_ = rgen.normal(loc=0.0, scale=0.01, size = 1 + x.shape[1])\n",
        "    self.cost_ = []\n",
        "    for i in range(self.n_iter):\n",
        "      net_input = self.net_input(x)\n",
        "      output = self.activation(net_input)\n",
        "      errors = (y - output)\n",
        "      self.w_[1:] += self.eta * x.T.dot(errors)\n",
        "      self.w_[0] += self.eta * errors.sum()\n",
        "      cost = (-y.dot(np.log(output)) - ((1-y).dot(np.log(1-output))))\n",
        "      self.cost_.append(cost)\n",
        "    return self\n",
        "\n",
        "\n",
        "  def net_input(self, x):\n",
        "    return np.dot(x, self.w_[1:]) + self.w_[0]\n",
        "  def activation(self, x):\n",
        "    return 1. / (1. + np.exp(-np.clip(x, -250, 250)))\n",
        "  def predict(self, x):\n",
        "    return np.where(self.net_input(x)>= 0.0, 1, 0)"
      ],
      "execution_count": 16,
      "outputs": []
    },
    {
      "cell_type": "markdown",
      "metadata": {
        "id": "EFbu25xBQUOY"
      },
      "source": [
        "**Testing the Linear Regression**"
      ]
    },
    {
      "cell_type": "code",
      "metadata": {
        "colab": {
          "base_uri": "https://localhost:8080/",
          "height": 297
        },
        "id": "5pYuyGbKMvJi",
        "outputId": "311f0251-44fe-483f-e42b-f3789b1cb365"
      },
      "source": [
        "x_train_01_subset = x_train[(y_train == 0) | (y_train == 1)]\n",
        "y_train_01_subset = y_train[(y_train == 0) | (y_train == 1)]\n",
        "lgrd = LogisticRegressionGD(eta = 0.05, n_iter = 1000, random_state = 1)\n",
        "lgrd.fit(x_train_01_subset, y_train_01_subset)\n",
        "plot_decision_regions(x_train_01_subset, y_train_01_subset, classifier=lgrd)\n",
        "plt.xlabel('petal length [standardized]')\n",
        "plt.ylabel('petal width [standardized]')\n",
        "plt.legend(loc = 'upper left')\n",
        "plt.tight_layout()\n",
        "plt.show()"
      ],
      "execution_count": 27,
      "outputs": [
        {
          "output_type": "display_data",
          "data": {
            "image/png": "[encoded data removed]",
            "text/plain": [
              "<Figure size 432x288 with 1 Axes>"
            ]
          },
          "metadata": {
            "tags": [],
            "needs_background": "light"
          }
        }
      ]
    }
  ]
}