{
  "nbformat": 4,
  "nbformat_minor": 0,
  "metadata": {
    "colab": {
      "name": "Perceptron.ipynb",
      "provenance": []
    },
    "kernelspec": {
      "name": "python3",
      "display_name": "Python 3"
    }
  },
  "cells": [
    {
      "cell_type": "code",
      "metadata": {
        "colab": {
          "base_uri": "https://localhost:8080/",
          "height": 130
        },
        "id": "tVH6c9lqMa4p",
        "outputId": "c2ab8659-2e47-40c1-d085-3a0621962233"
      },
      "source": [
        "import numpy as np\r\n",
        "\r\n",
        "\r\n",
        "class Perceptron(object):\r\n",
        "  '''Basic perceptron classifier'''\r\n",
        "  '''\r\n",
        "  ---------Parameters--------\r\n",
        "  eta: float - learning rate 0<eta<1\r\n",
        "  iter_number: int - iteration over dataset\r\n",
        "  random_state: int - RNG seed\r\n",
        "  ---------Attributes--------\r\n",
        "  w_: ld-array - weights after fitting\r\n",
        "  errs_ : list - number of misclassifications for each epoch\r\n",
        "  '''\r\n",
        "  \r\n",
        "\r\n"
      ],
      "execution_count": null,
      "outputs": [
        {
          "output_type": "error",
          "ename": "SyntaxError",
          "evalue": "ignored",
          "traceback": [
            "\u001b[0;36m  File \u001b[0;32m\"<ipython-input-1-f581a88f2bc2>\"\u001b[0;36m, line \u001b[0;32m4\u001b[0m\n\u001b[0;31m    class Perceptron:\u001b[0m\n\u001b[0m                     ^\u001b[0m\n\u001b[0;31mSyntaxError\u001b[0m\u001b[0;31m:\u001b[0m unexpected EOF while parsing\n"
          ]
        }
      ]
    },
    {
      "cell_type": "code",
      "metadata": {
        "id": "b5TOrQ5Jcwt0"
      },
      "source": [
        "\r\n"
      ],
      "execution_count": null,
      "outputs": []
    }
  ]
}