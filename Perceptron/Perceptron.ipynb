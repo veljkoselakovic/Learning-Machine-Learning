{
  "nbformat": 4,
  "nbformat_minor": 0,
  "metadata": {
    "colab": {
      "name": "Perceptron.ipynb",
      "provenance": [],
      "toc_visible": true
    },
    "kernelspec": {
      "name": "python3",
      "display_name": "Python 3"
    }
  },
  "cells": [
    {
      "cell_type": "markdown",
      "metadata": {
        "id": "u5v74C-_igTB"
      },
      "source": [
        "**The Perceptron class**\r\n",
        "\r\n",
        "\r\n"
      ]
    },
    {
      "cell_type": "code",
      "metadata": {
        "id": "tVH6c9lqMa4p"
      },
      "source": [
        "import numpy as np\r\n",
        "'''Basic perceptron classifier'''\r\n",
        "\r\n",
        "\r\n",
        "class Perceptron(object):\r\n",
        "  '''\r\n",
        "  ---------Parameters--------\r\n",
        "  eta: float - learning rate 0<eta<1\r\n",
        "  iter_number: int - iteration over dataset\r\n",
        "  random_state: int - RNG seed\r\n",
        "  ---------Attributes--------\r\n",
        "  w_: ld-array - weights after fitting\r\n",
        "  errs_ : list - number of misclassifications for each epoch\r\n",
        "  '''\r\n",
        "  def __init__(self, eta=0.01, iter_number=100, random_state=1):\r\n",
        "    self.eta = eta\r\n",
        "    self.iter_number = iter_number\r\n",
        "    self.random_state = random_state\r\n",
        "  def fit(self, x, y):\r\n",
        "    '''\r\n",
        "    Fit the data\r\n",
        "    The meat of the perceptron\r\n",
        "    -------Parameters---------\r\n",
        "    x: array-like, shape = {n_examples, n_features}\r\n",
        "    Training vectors\r\n",
        "    n_examples - the number of examples\r\n",
        "    n_features - the number of distinct features\r\n",
        "    y: array-like, shape = {n_examples}\r\n",
        "    Target value vector\r\n",
        "    ---------Return-----------\r\n",
        "    self: object\r\n",
        "    '''\r\n",
        "    rstate = np.random.RandomState(self.random_state)\r\n",
        "    self.w_ = rstate.normal(loc = 0.0, scale = 0.01, size = 1 + x.shape[1]) # Initalize weights to a number close to 0\r\n",
        "    self.errs_ = [] \r\n",
        "    for _ in range(self.iter_number):\r\n",
        "      errs = 0\r\n",
        "      for xi, target in zip(x,y):\r\n",
        "        update = self.eta * (target - self.predict(xi))\r\n",
        "        self.w_[1:] += update * xi\r\n",
        "        self.w_[0] += update # This is theta\r\n",
        "        errs += int(update != 0.0)\r\n",
        "      self.errs_.append(errs)\r\n",
        "    return self\r\n",
        "  def net_input(self, x):\r\n",
        "    '''\r\n",
        "    Calculates the net input function FI(z)\r\n",
        "    '''\r\n",
        "    return np.dot(x, self.w_[1:]) + self.w_[0] # x dot w_\r\n",
        "  def predict(self, X):\r\n",
        "    '''\r\n",
        "    Predicts class label in unit steps\r\n",
        "    '''\r\n",
        "    return np.where(self.net_input(X)>= 0.0, 1, -1)\r\n",
        "\r\n"
      ],
      "execution_count": 10,
      "outputs": []
    },
    {
      "cell_type": "markdown",
      "metadata": {
        "id": "0jDsVv1HjeEC"
      },
      "source": [
        "**Importing the Iris dataset**"
      ]
    },
    {
      "cell_type": "code",
      "metadata": {
        "id": "b5TOrQ5Jcwt0",
        "outputId": "c34af039-5f08-48b1-e1fb-efd7f86946df",
        "colab": {
          "base_uri": "https://localhost:8080/"
        }
      },
      "source": [
        "import os\r\n",
        "import pandas as pd\r\n",
        "a = os.path.join('https://archive.ics.uci.edu', 'ml', 'machine-learning-databases', 'iris', 'iris.data')\r\n",
        "df = pd.read_csv(a, header=None, encoding='utf-8')\r\n",
        "print(df.tail())"
      ],
      "execution_count": 5,
      "outputs": [
        {
          "output_type": "stream",
          "text": [
            "       0    1    2    3               4\n",
            "145  6.7  3.0  5.2  2.3  Iris-virginica\n",
            "146  6.3  2.5  5.0  1.9  Iris-virginica\n",
            "147  6.5  3.0  5.2  2.0  Iris-virginica\n",
            "148  6.2  3.4  5.4  2.3  Iris-virginica\n",
            "149  5.9  3.0  5.1  1.8  Iris-virginica\n"
          ],
          "name": "stdout"
        }
      ]
    },
    {
      "cell_type": "markdown",
      "metadata": {
        "id": "yPMqMS2fkyWP"
      },
      "source": [
        "**Preparing the data + Visualisation**"
      ]
    },
    {
      "cell_type": "code",
      "metadata": {
        "id": "GeqfN_8VjjCZ",
        "outputId": "e4c35238-57d8-480b-ef77-02a5ffb7e70a",
        "colab": {
          "base_uri": "https://localhost:8080/",
          "height": 279
        }
      },
      "source": [
        "import matplotlib.pyplot as plt\r\n",
        "\r\n",
        "y = df.iloc[0:100, 4].values\r\n",
        "y = np.where(y == 'Iris-setosa', -1, 1)\r\n",
        "x = df.iloc[0:100, [0,2]].values\r\n",
        "\r\n",
        "plt.scatter(x[:50, 0], x[:50,1], color = 'red', marker='^', label='setosa')\r\n",
        "plt.scatter(x[50:100, 0], x[50:100, 1], color='blue', marker = 'o', label='versicolor')\r\n",
        "plt.xlabel('sepal length [cm]')\r\n",
        "plt.ylabel('petal length [cm]')\r\n",
        "plt.legend(loc='lower right')\r\n",
        "plt.show()"
      ],
      "execution_count": 8,
      "outputs": [
        {
          "output_type": "display_data",
          "data": {
            "image/png": "[encoded data removed]",
            "text/plain": [
              "<Figure size 432x288 with 1 Axes>"
            ]
          },
          "metadata": {
            "tags": [],
            "needs_background": "light"
          }
        }
      ]
    },
    {
      "cell_type": "markdown",
      "metadata": {
        "id": "HU3hAJK5lie3"
      },
      "source": [
        "**Testing the convergence of our perceptron**"
      ]
    },
    {
      "cell_type": "code",
      "metadata": {
        "id": "6nQ_x_zGk7c0",
        "outputId": "52d236a7-fee0-4d80-eb00-96e8a139c791",
        "colab": {
          "base_uri": "https://localhost:8080/",
          "height": 279
        }
      },
      "source": [
        "perc = Perceptron(eta = 0.1, iter_number = 10)\r\n",
        "perc.fit(x, y)\r\n",
        "plt.plot(range(1, len(perc.errs_) + 1), perc.errs_, marker = 'o')\r\n",
        "plt.xlabel('Epochs')\r\n",
        "plt.ylabel('Number of updates')\r\n",
        "plt.show()\r\n"
      ],
      "execution_count": 11,
      "outputs": [
        {
          "output_type": "display_data",
          "data": {
            "image/png": "[encoded data removed]",
            "text/plain": [
              "<Figure size 432x288 with 1 Axes>"
            ]
          },
          "metadata": {
            "tags": [],
            "needs_background": "light"
          }
        }
      ]
    },
    {
      "cell_type": "markdown",
      "metadata": {
        "id": "0WijVLR6lunr"
      },
      "source": [
        "**Plot the decision surfaces using prediction for every possible choice**"
      ]
    },
    {
      "cell_type": "code",
      "metadata": {
        "id": "V481LyBcluS8",
        "outputId": "ec56e601-15b4-4ac6-e1f4-cd648871bf2f",
        "colab": {
          "base_uri": "https://localhost:8080/",
          "height": 280
        }
      },
      "source": [
        "\r\n",
        "def plot_decision_regions(x,y, classifier, resolution = 0.02):\r\n",
        "  from matplotlib.colors import ListedColormap\r\n",
        "\r\n",
        "  # Marker generator + color map\r\n",
        "  markers = ('s', 'x', 'o', '^', 'y')\r\n",
        "  colors = ('red', 'blue', 'lightgreen', 'gray', 'cyan')\r\n",
        "  cmap = ListedColormap(colors[:len(np.unique(y))])\r\n",
        "  \r\n",
        "  # Plot decision surfaces\r\n",
        "  x1_min, x1_max = x[:, 0].min() - 1, x[:, 0].max() + 1\r\n",
        "  x2_min, x2_max = x[:, 1].min() - 1, x[:, 1].max() + 1\r\n",
        "  xx1, xx2 = np.meshgrid(np.arange(x1_min, x1_max, resolution),\r\n",
        "                         np.arange(x2_min, x2_max, resolution))\r\n",
        "  z = classifier.predict(np.array([xx1.ravel(), xx2.ravel()]).T)\r\n",
        "  z = z.reshape(xx1.shape)\r\n",
        "  plt.contourf(xx1, xx2, z, alpha = 0.3, cmap = cmap)\r\n",
        "  plt.xlim(xx1.min(), xx1.max())\r\n",
        "  plt.ylim(xx2.min(), xx2.max())\r\n",
        "  # Plot examples\r\n",
        "  for idx, cl in enumerate(np.unique(y)):\r\n",
        "    c = \"Iris Versicolor\" if cl == 1 else \"Iris Setosa\"\r\n",
        "    plt.scatter(x = x[y==cl, 0], y = x[y == cl, 1],\r\n",
        "                alpha = 0.8,\r\n",
        "                c = colors[idx],\r\n",
        "                marker = markers[idx],\r\n",
        "                label = c,\r\n",
        "                edgecolor='black')\r\n",
        "  #plt.show()\r\n",
        "plot_decision_regions(x,y, perc, resolution=0.01)\r\n",
        "plt.xlabel('Casicni listic [cm]')\r\n",
        "plt.ylabel('Latica [cm]')\r\n",
        "plt.legend(loc = 'lower right')\r\n",
        "plt.show()"
      ],
      "execution_count": 58,
      "outputs": [
        {
          "output_type": "display_data",
          "data": {
            "image/png": "[encoded data removed]",
            "text/plain": [
              "<Figure size 432x288 with 1 Axes>"
            ]
          },
          "metadata": {
            "tags": [],
            "needs_background": "light"
          }
        }
      ]
    },
    {
      "cell_type": "markdown",
      "metadata": {
        "id": "6HvvE4dOscGU"
      },
      "source": [
        "**Tests**\r\n"
      ]
    },
    {
      "cell_type": "code",
      "metadata": {
        "id": "uBCZYV_9scQP",
        "outputId": "edcd5cac-4f04-42b2-8071-237fb289282d",
        "colab": {
          "base_uri": "https://localhost:8080/"
        }
      },
      "source": [
        "test = [1, 4]\r\n",
        "test = np.array(test)\r\n",
        "z = perc.predict(test.T)\r\n",
        "c = \"Iris Versicolor\" if z == 1 else \"Iris Setosa\"\r\n",
        "\r\n",
        "print(c)"
      ],
      "execution_count": 65,
      "outputs": [
        {
          "output_type": "stream",
          "text": [
            "Iris Versicolor\n"
          ],
          "name": "stdout"
        }
      ]
    }
  ]
}